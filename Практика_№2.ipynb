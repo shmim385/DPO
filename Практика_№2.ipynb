{
  "nbformat": 4,
  "nbformat_minor": 0,
  "metadata": {
    "colab": {
      "provenance": [],
      "collapsed_sections": [
        "HAVFiCLPo28O"
      ],
      "toc_visible": true,
      "include_colab_link": true
    },
    "kernelspec": {
      "name": "python3",
      "display_name": "Python 3"
    },
    "language_info": {
      "name": "python"
    }
  },
  "cells": [
    {
      "cell_type": "markdown",
      "metadata": {
        "id": "view-in-github",
        "colab_type": "text"
      },
      "source": [
        "<a href=\"https://colab.research.google.com/github/shmim385/DPO/blob/main/%D0%9F%D1%80%D0%B0%D0%BA%D1%82%D0%B8%D0%BA%D0%B0_%E2%84%962.ipynb\" target=\"_parent\"><img src=\"https://colab.research.google.com/assets/colab-badge.svg\" alt=\"Open In Colab\"/></a>"
      ]
    },
    {
      "cell_type": "markdown",
      "source": [
        "# Практика №2\n",
        "\n",
        "1. Сгенерировать, используя модуль псевдослучайных чисел `random`, или ввести с клавиатуры список целых чисел. Вывести в консоль, затем перевернуть его и снова вывести в консоль.\n",
        "\n",
        "2. Сгенерировать, используя модуль псевдослучайных чисел `random`, или ввести с клавиатуры два списка целых чисел. Вывести их в консоль. Создать новый пустой список. Добавить в него все четные (по индексу) элементы первого списка и все нечетные (по индексу) элементы второго списка. Вывести третий список в консоль.\n",
        "\n",
        "3. Сгенерировать, используя модуль псевдослучайных чисел `random`, или ввести с клавиатуры список произвольных элементов (целые числа, числа с плавающей точкой, строки). Вывести в консоль. Убрать из него все дубликаты через приведение типов. Вывести в консоль.\n",
        "\n",
        "4. Сгенерировать, используя модуль псевдослучайных чисел `random`, или ввести с клавиатуры словарь, где ключом является строка, значением — целое число или число с плавающей точкой. Вывести в консоль. Для всех уникальных значений создать кортеж, где первым элементом будет значение, вторым — список связанных с ним ключей. Собрать эти кортежи в список, вывести его в консоль.\n",
        "\n",
        "5. Сгенерировать, используя модуль псевдослучайных чисел `random`, или ввести с клавиатуры два словаря, где ключом является строка, значением — целое число или число с плавающей точкой. Вывести в консоль. Найти пересечения множеств значений словарей. Создать новый словарь, содержащий только те пары ключ-значение, значения из которых входит в пересечение. Вывести в консоль.\n",
        "\n",
        "[Ссылка на документацию функции `random`](https://docs.python.org/3/library/random.html)\n",
        "\n",
        "[Built-in Types](https://docs.python.org/3/library/stdtypes.html?highlight=tuple#tuple)"
      ],
      "metadata": {
        "id": "64JPlHixec69"
      }
    },
    {
      "cell_type": "markdown",
      "source": [
        "## Задание 1"
      ],
      "metadata": {
        "id": "HAVFiCLPo28O"
      }
    },
    {
      "cell_type": "code",
      "source": [
        "import random\n",
        "\n",
        "def generate_list(k):\n",
        "  return [random.randrange(0, 10) for _ in range(k)]\n",
        "u = generate_list(8)\n",
        "print(u)\n",
        "\n",
        "print(list(reversed(u)))"
      ],
      "metadata": {
        "id": "YyusyI57F_6_",
        "colab": {
          "base_uri": "https://localhost:8080/"
        },
        "outputId": "3d159e6a-4db5-43cb-a29a-c740b86def27"
      },
      "execution_count": 1,
      "outputs": [
        {
          "output_type": "stream",
          "name": "stdout",
          "text": [
            "[6, 6, 5, 3, 8, 7, 0, 9]\n",
            "[9, 0, 7, 8, 3, 5, 6, 6]\n"
          ]
        }
      ]
    },
    {
      "cell_type": "markdown",
      "source": [
        "## Задание 2"
      ],
      "metadata": {
        "id": "a1gbYjASfIqJ"
      }
    },
    {
      "cell_type": "code",
      "source": [
        "import random\n",
        "\n",
        "\n",
        "n = 10  # Количество элементов в списках\n",
        "list1 = [random.randint(0, 100) for _ in range(n)]\n",
        "list2 = [random.randint(0, 100) for _ in range(n)]\n",
        "\n",
        "\n",
        "print(\"Первый список:\", list1)\n",
        "print(\"Второй список:\", list2)\n",
        "\n",
        "# Создаем новый список с четными индексами из первого списка и нечетными индексами из второго\n",
        "list3 = []\n",
        "\n",
        "# Добавляем четные элементы из первого списка\n",
        "for i in range(len(list1)):\n",
        "    if i % 2 == 0:  # Четные индексы\n",
        "        list3.append(list1[i])\n",
        "\n",
        "# Добавляем нечетные элементы из второго списка\n",
        "for i in range(len(list2)):\n",
        "    if i % 2 != 0:\n",
        "        list3.append(list2[i])\n",
        "\n",
        "# Выводим новый список в консоль\n",
        "print(\"Третий список:\", list3)\n"
      ],
      "metadata": {
        "id": "Q0qL-Z2CGAXx",
        "outputId": "d177bcae-d4d3-490b-a826-9aa145ab57b2",
        "colab": {
          "base_uri": "https://localhost:8080/"
        }
      },
      "execution_count": 2,
      "outputs": [
        {
          "output_type": "stream",
          "name": "stdout",
          "text": [
            "Первый список: [35, 77, 76, 87, 85, 7, 90, 79, 25, 41]\n",
            "Второй список: [2, 37, 39, 79, 74, 9, 94, 14, 16, 93]\n",
            "Третий список: [35, 76, 85, 90, 25, 37, 79, 9, 14, 93]\n"
          ]
        }
      ]
    },
    {
      "cell_type": "markdown",
      "source": [
        "## Задание 3"
      ],
      "metadata": {
        "id": "ZITkT8YUfM8t"
      }
    },
    {
      "cell_type": "code",
      "source": [
        "import random\n",
        "\n",
        "def generate_random_list(size):\n",
        "    elements = []\n",
        "    for _ in range(size):\n",
        "        choice = random.choice(['int', 'float', 'str'])\n",
        "        if choice == 'int':\n",
        "            elements.append(random.randint(1, 100))\n",
        "        elif choice == 'float':\n",
        "            elements.append(round(random.uniform(1, 100), 2))\n",
        "        else:\n",
        "            elements.append(random.choice(['apple', 'banana', 'orange', 'grape', 'kiwi']))\n",
        "    return elements\n",
        "\n",
        "\n",
        "size = 10\n",
        "random_list = generate_random_list(size)\n",
        "\n",
        "\n",
        "print(\"Исходный список:\", random_list)\n",
        "\n",
        "\n",
        "unique_elements = list(set(map(str, random_list)))\n",
        "\n",
        "print(\"Список без дубликатов:\", unique_elements)\n"
      ],
      "metadata": {
        "id": "FIKNuLjQGAsW",
        "outputId": "d258e880-c032-4d51-9a1c-729e68113ba0",
        "colab": {
          "base_uri": "https://localhost:8080/"
        }
      },
      "execution_count": 3,
      "outputs": [
        {
          "output_type": "stream",
          "name": "stdout",
          "text": [
            "Исходный список: [13.01, 93, 89.14, 'orange', 99.44, 'orange', 14, 88, 51, 69]\n",
            "Список без дубликатов: ['13.01', '88', '93', '99.44', '69', '89.14', '14', '51', 'orange']\n"
          ]
        }
      ]
    },
    {
      "cell_type": "markdown",
      "source": [
        "## Задание 4"
      ],
      "metadata": {
        "id": "sqvNf2a6fTdY"
      }
    },
    {
      "cell_type": "code",
      "source": [
        "import random\n",
        "\n",
        "def generate_random_dict(size):\n",
        "    unique_keys = set()\n",
        "    random_dict = {}\n",
        "\n",
        "    while len(random_dict) < size:\n",
        "        key = f'key_{random.randint(1, 100)}'\n",
        "        if key not in unique_keys:\n",
        "            unique_keys.add(key)\n",
        "            value = random.choice([random.randint(1, 100), round(random.uniform(1, 100), 2)])\n",
        "            random_dict[key] = value\n",
        "\n",
        "    return random_dict\n",
        "\n",
        "size = 10\n",
        "random_dict = generate_random_dict(size)\n",
        "\n",
        "for key in random_dict:\n",
        "\n",
        "    if '.' in str(random_dict[key]):\n",
        "        random_dict[key] = float(random_dict[key])\n",
        "    else:\n",
        "        random_dict[key] = int(random_dict[key])\n",
        "\n",
        "\n",
        "print(\"Исходный словарь:\", random_dict)\n",
        "\n",
        "value_to_keys = {}\n",
        "\n",
        "for key, value in random_dict.items():\n",
        "    if value not in value_to_keys:\n",
        "        value_to_keys[value] = []\n",
        "    value_to_keys[value].append(key)\n",
        "\n",
        "result_list = [(value, keys) for value, keys in value_to_keys.items()]\n",
        "\n",
        "print(\"Список кортежей (значение, список ключей):\", result_list)\n"
      ],
      "metadata": {
        "id": "4qaYZ2dMGBEr",
        "outputId": "e4e22a58-804d-4b47-b0af-315526408d47",
        "colab": {
          "base_uri": "https://localhost:8080/"
        }
      },
      "execution_count": 4,
      "outputs": [
        {
          "output_type": "stream",
          "name": "stdout",
          "text": [
            "Исходный словарь: {'key_37': 7.53, 'key_44': 45.2, 'key_28': 87.03, 'key_100': 49.77, 'key_79': 46, 'key_35': 30, 'key_70': 78.21, 'key_54': 72, 'key_66': 67.37, 'key_90': 98}\n",
            "Список кортежей (значение, список ключей): [(7.53, ['key_37']), (45.2, ['key_44']), (87.03, ['key_28']), (49.77, ['key_100']), (46, ['key_79']), (30, ['key_35']), (78.21, ['key_70']), (72, ['key_54']), (67.37, ['key_66']), (98, ['key_90'])]\n"
          ]
        }
      ]
    },
    {
      "cell_type": "markdown",
      "source": [
        "## Задание 5"
      ],
      "metadata": {
        "id": "3V5mJOBQfYHe"
      }
    },
    {
      "cell_type": "code",
      "source": [
        "import random\n",
        "\n",
        "# Ввод или генерация первого словаря\n",
        "dict1 = {}\n",
        "for _ in range(5):  # Здесь 5 - количество пар ключ-значение\n",
        "    key = input(\"Введите строку для ключа первого словаря: \")\n",
        "    value = random.uniform(1, 100)  # Случайное значение с плавающей точкой от 1 до 100\n",
        "    dict1[key] = value\n",
        "\n",
        "# Ввод или генерация второго словаря\n",
        "dict2 = {}\n",
        "for _ in range(5):  # Здесь 5 - количество пар ключ-значение\n",
        "    key = input(\"Введите строку для ключа второго словаря: \")\n",
        "    value = random.randint(1, 100)\n",
        "    dict2[key] = value\n",
        "\n",
        "# Вывод словарей\n",
        "print(\"Первый словарь:\", dict1)\n",
        "print(\"Второй словарь:\", dict2)\n",
        "\n",
        "# Находим пересечения множеств значений словарей\n",
        "values1 = set(dict1.values())\n",
        "values2 = set(dict2.values())\n",
        "intersection = values1.intersection(values2)\n",
        "\n",
        "# Создаем новый словарь с пересечениями\n",
        "new_dict = {k: v for k, v in dict1.items() if v in intersection}\n",
        "\n",
        "print(\"Новый словарь с пересечениями значений:\", new_dict)\n"
      ],
      "metadata": {
        "id": "7RJzU4DiGBXQ",
        "outputId": "6aafec7f-b220-4e2a-9009-3e429e1e9c12",
        "colab": {
          "base_uri": "https://localhost:8080/"
        }
      },
      "execution_count": 7,
      "outputs": [
        {
          "output_type": "stream",
          "name": "stdout",
          "text": [
            "Введите строку для ключа первого словаря: 1\n",
            "Введите строку для ключа первого словаря: 2\n",
            "Введите строку для ключа первого словаря: 3\n",
            "Введите строку для ключа первого словаря: 4\n",
            "Введите строку для ключа первого словаря: 5\n",
            "Введите строку для ключа второго словаря: 1\n",
            "Введите строку для ключа второго словаря: 2\n",
            "Введите строку для ключа второго словаря: 3\n",
            "Введите строку для ключа второго словаря: 4\n",
            "Введите строку для ключа второго словаря: 56\n",
            "Первый словарь: {'1': 63.57164843398635, '2': 6.109744623027565, '3': 36.871535219621244, '4': 33.72113549238654, '5': 74.93772662922676}\n",
            "Второй словарь: {'1': 41, '2': 68, '3': 44, '4': 51, '56': 98}\n",
            "Новый словарь с пересечениями значений: {}\n"
          ]
        }
      ]
    }
  ]
}